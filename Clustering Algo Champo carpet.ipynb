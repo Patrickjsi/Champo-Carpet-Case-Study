{
 "cells": [
  {
   "cell_type": "code",
   "execution_count": 54,
   "id": "af2db6c9",
   "metadata": {},
   "outputs": [],
   "source": [
    "import pandas as pd\n",
    "import seaborn as sns\n",
    "import matplotlib.pyplot as plt\n",
    "from sklearn.cluster import KMeans\n",
    "import numpy as np\n",
    "from sklearn.preprocessing import StandardScaler"
   ]
  },
  {
   "cell_type": "code",
   "execution_count": 56,
   "id": "a3f0671a",
   "metadata": {},
   "outputs": [],
   "source": [
    "data =  pd.read_excel('Carpet_data.xlsx',  'Data for Clustering')"
   ]
  },
  {
   "cell_type": "code",
   "execution_count": 58,
   "id": "72e69c3e",
   "metadata": {},
   "outputs": [
    {
     "data": {
      "text/html": [
       "<div>\n",
       "<style scoped>\n",
       "    .dataframe tbody tr th:only-of-type {\n",
       "        vertical-align: middle;\n",
       "    }\n",
       "\n",
       "    .dataframe tbody tr th {\n",
       "        vertical-align: top;\n",
       "    }\n",
       "\n",
       "    .dataframe thead th {\n",
       "        text-align: right;\n",
       "    }\n",
       "</style>\n",
       "<table border=\"1\" class=\"dataframe\">\n",
       "  <thead>\n",
       "    <tr style=\"text-align: right;\">\n",
       "      <th></th>\n",
       "      <th>Row Labels</th>\n",
       "      <th>Sum of QtyRequired</th>\n",
       "      <th>Sum of TotalArea</th>\n",
       "      <th>Sum of Amount</th>\n",
       "      <th>DURRY</th>\n",
       "      <th>HANDLOOM</th>\n",
       "      <th>DOUBLE BACK</th>\n",
       "      <th>JACQUARD</th>\n",
       "      <th>HAND TUFTED</th>\n",
       "      <th>HAND WOVEN</th>\n",
       "      <th>KNOTTED</th>\n",
       "      <th>GUN TUFTED</th>\n",
       "      <th>Powerloom Jacquard</th>\n",
       "      <th>INDO TEBETAN</th>\n",
       "    </tr>\n",
       "  </thead>\n",
       "  <tbody>\n",
       "    <tr>\n",
       "      <th>0</th>\n",
       "      <td>A-11</td>\n",
       "      <td>2466</td>\n",
       "      <td>139.5900</td>\n",
       "      <td>1.854041e+05</td>\n",
       "      <td>1021</td>\n",
       "      <td>1445</td>\n",
       "      <td>0</td>\n",
       "      <td>0</td>\n",
       "      <td>0</td>\n",
       "      <td>0</td>\n",
       "      <td>0</td>\n",
       "      <td>0</td>\n",
       "      <td>0</td>\n",
       "      <td>0</td>\n",
       "    </tr>\n",
       "    <tr>\n",
       "      <th>1</th>\n",
       "      <td>A-6</td>\n",
       "      <td>131</td>\n",
       "      <td>2086.0000</td>\n",
       "      <td>6.247460e+03</td>\n",
       "      <td>0</td>\n",
       "      <td>0</td>\n",
       "      <td>25</td>\n",
       "      <td>106</td>\n",
       "      <td>0</td>\n",
       "      <td>0</td>\n",
       "      <td>0</td>\n",
       "      <td>0</td>\n",
       "      <td>0</td>\n",
       "      <td>0</td>\n",
       "    </tr>\n",
       "    <tr>\n",
       "      <th>2</th>\n",
       "      <td>A-9</td>\n",
       "      <td>18923</td>\n",
       "      <td>53625.6544</td>\n",
       "      <td>1.592080e+06</td>\n",
       "      <td>3585</td>\n",
       "      <td>0</td>\n",
       "      <td>175</td>\n",
       "      <td>714</td>\n",
       "      <td>11716</td>\n",
       "      <td>2116</td>\n",
       "      <td>617</td>\n",
       "      <td>0</td>\n",
       "      <td>0</td>\n",
       "      <td>0</td>\n",
       "    </tr>\n",
       "    <tr>\n",
       "      <th>3</th>\n",
       "      <td>B-2</td>\n",
       "      <td>624</td>\n",
       "      <td>202.8987</td>\n",
       "      <td>1.481116e+04</td>\n",
       "      <td>581</td>\n",
       "      <td>0</td>\n",
       "      <td>0</td>\n",
       "      <td>2</td>\n",
       "      <td>0</td>\n",
       "      <td>41</td>\n",
       "      <td>0</td>\n",
       "      <td>0</td>\n",
       "      <td>0</td>\n",
       "      <td>0</td>\n",
       "    </tr>\n",
       "    <tr>\n",
       "      <th>4</th>\n",
       "      <td>B-3</td>\n",
       "      <td>464</td>\n",
       "      <td>8451.5625</td>\n",
       "      <td>5.862687e+04</td>\n",
       "      <td>0</td>\n",
       "      <td>0</td>\n",
       "      <td>459</td>\n",
       "      <td>5</td>\n",
       "      <td>0</td>\n",
       "      <td>0</td>\n",
       "      <td>0</td>\n",
       "      <td>0</td>\n",
       "      <td>0</td>\n",
       "      <td>0</td>\n",
       "    </tr>\n",
       "  </tbody>\n",
       "</table>\n",
       "</div>"
      ],
      "text/plain": [
       "  Row Labels  Sum of QtyRequired  Sum of TotalArea  Sum of Amount  DURRY  \\\n",
       "0       A-11                2466          139.5900   1.854041e+05   1021   \n",
       "1        A-6                 131         2086.0000   6.247460e+03      0   \n",
       "2        A-9               18923        53625.6544   1.592080e+06   3585   \n",
       "3        B-2                 624          202.8987   1.481116e+04    581   \n",
       "4        B-3                 464         8451.5625   5.862687e+04      0   \n",
       "\n",
       "   HANDLOOM  DOUBLE BACK  JACQUARD  HAND TUFTED  HAND WOVEN  KNOTTED  \\\n",
       "0      1445            0         0            0           0        0   \n",
       "1         0           25       106            0           0        0   \n",
       "2         0          175       714        11716        2116      617   \n",
       "3         0            0         2            0          41        0   \n",
       "4         0          459         5            0           0        0   \n",
       "\n",
       "   GUN TUFTED  Powerloom Jacquard  INDO TEBETAN  \n",
       "0           0                   0             0  \n",
       "1           0                   0             0  \n",
       "2           0                   0             0  \n",
       "3           0                   0             0  \n",
       "4           0                   0             0  "
      ]
     },
     "execution_count": 58,
     "metadata": {},
     "output_type": "execute_result"
    }
   ],
   "source": [
    "data.head()"
   ]
  },
  {
   "cell_type": "code",
   "execution_count": 53,
   "id": "5dcee5dd",
   "metadata": {},
   "outputs": [
    {
     "data": {
      "text/plain": [
       "Row Labels             object\n",
       "Sum of QtyRequired      int64\n",
       "Sum of TotalArea      float64\n",
       "Sum of Amount         float64\n",
       "DURRY                   int64\n",
       "HANDLOOM                int64\n",
       "DOUBLE BACK             int64\n",
       "JACQUARD                int64\n",
       "HAND TUFTED             int64\n",
       "HAND WOVEN              int64\n",
       "KNOTTED                 int64\n",
       "GUN TUFTED              int64\n",
       "Powerloom Jacquard      int64\n",
       "INDO TEBETAN            int64\n",
       "dtype: object"
      ]
     },
     "execution_count": 53,
     "metadata": {},
     "output_type": "execute_result"
    }
   ],
   "source": [
    "df.dtypes"
   ]
  },
  {
   "cell_type": "code",
   "execution_count": 59,
   "id": "231c3605",
   "metadata": {},
   "outputs": [
    {
     "data": {
      "text/plain": [
       "array([[-3.47956654e-01, -3.78920118e-01, -2.86681619e-01,\n",
       "        -2.77553156e-01,  2.09608773e+00, -3.53531835e-01,\n",
       "        -5.14415872e-01, -3.72283827e-01, -3.62851906e-01,\n",
       "        -2.46092752e-01, -2.41139685e-01, -1.50755672e-01,\n",
       "        -2.08940679e-01],\n",
       "       [-4.25250522e-01, -3.21822191e-01, -3.86838270e-01,\n",
       "        -3.24146674e-01, -3.08776845e-01, -3.31864625e-01,\n",
       "         9.53663619e-02, -3.72283827e-01, -3.62851906e-01,\n",
       "        -2.46092752e-01, -2.41139685e-01, -1.50755672e-01,\n",
       "        -2.08940679e-01],\n",
       "       [ 1.96807879e-01,  1.19009328e+00,  4.99713599e-01,\n",
       "        -1.60544558e-01, -3.08776845e-01, -2.01861362e-01,\n",
       "         3.59298521e+00,  8.22419860e-01,  5.22021282e-01,\n",
       "         1.69045790e-01, -2.41139685e-01, -1.50755672e-01,\n",
       "        -2.08940679e-01],\n",
       "       [-4.08931089e-01, -3.77062957e-01, -3.82050775e-01,\n",
       "        -2.97632635e-01, -3.08776845e-01, -3.53531835e-01,\n",
       "        -5.02910547e-01, -3.72283827e-01, -3.45706443e-01,\n",
       "        -2.46092752e-01, -2.41139685e-01, -1.50755672e-01,\n",
       "        -2.08940679e-01],\n",
       "       [-4.14227457e-01, -1.35088451e-01, -3.57555817e-01,\n",
       "        -3.24146674e-01, -3.08776845e-01,  4.42781482e-02,\n",
       "        -4.85652559e-01, -3.72283827e-01, -3.62851906e-01,\n",
       "        -2.46092752e-01, -2.41139685e-01, -1.50755672e-01,\n",
       "        -2.08940679e-01],\n",
       "       [-4.06680133e-01, -2.87844934e-01, -3.75660140e-01,\n",
       "        -3.20495859e-01, -1.39021698e-01, -3.53531835e-01,\n",
       "        -5.14415872e-01, -3.20278119e-01, -3.62851906e-01,\n",
       "        -2.46092752e-01, -2.41139685e-01, -1.50755672e-01,\n",
       "        -2.08940679e-01],\n",
       "       [-2.59540414e-01,  1.45813889e+00, -7.30052723e-02,\n",
       "        -3.11003742e-01, -3.08776845e-01, -3.53531835e-01,\n",
       "        -5.14415872e-01,  5.35511504e-02, -2.70851858e-01,\n",
       "         5.87010233e-02, -2.41139685e-01, -1.50755672e-01,\n",
       "        -2.08940679e-01],\n",
       "       [ 1.39673311e+00, -1.04039193e-01,  4.80171175e-01,\n",
       "         1.36627161e+00, -3.08776845e-01, -3.53531835e-01,\n",
       "        -5.14415872e-01,  1.68412386e-02,  5.62300576e+00,\n",
       "        -2.46092752e-01, -2.41139685e-01, -1.50755672e-01,\n",
       "        -2.08940679e-01],\n",
       "       [-3.77748723e-01, -2.65205652e-01, -3.34950556e-01,\n",
       "        -2.67559052e-01, -3.08776845e-01, -3.53531835e-01,\n",
       "        -5.14415872e-01, -3.39040962e-01, -3.62851906e-01,\n",
       "        -2.46092752e-01, -2.41139685e-01, -1.50755672e-01,\n",
       "        -2.08940679e-01],\n",
       "       [-2.61526552e-01, -1.57253078e-01, -3.07830353e-01,\n",
       "        -3.23964133e-01, -2.58848861e-01, -3.50931770e-01,\n",
       "        -5.14415872e-01,  1.39717471e-01, -3.62851906e-01,\n",
       "        -2.46092752e-01,  3.22178432e-01, -1.50755672e-01,\n",
       "        -2.08940679e-01],\n",
       "       [-4.10884125e-01, -3.70694292e-01, -3.77025607e-01,\n",
       "        -3.24146674e-01, -3.08776845e-01, -3.53531835e-01,\n",
       "        -5.14415872e-01, -3.14669660e-01, -3.62851906e-01,\n",
       "        -2.46092752e-01, -2.41139685e-01, -1.50755672e-01,\n",
       "        -2.08940679e-01],\n",
       "       [-4.24654681e-01, -3.74039171e-01, -3.74315291e-01,\n",
       "        -3.24146674e-01, -3.08776845e-01, -3.39664820e-01,\n",
       "        -4.79899896e-01, -3.70958191e-01, -3.62851906e-01,\n",
       "        -1.69389683e-01, -2.41139685e-01, -1.50755672e-01,\n",
       "        -2.08940679e-01],\n",
       "       [-4.10354488e-01,  1.70771034e-01, -3.25046540e-01,\n",
       "        -3.23553416e-01, -3.08776845e-01, -5.19242660e-02,\n",
       "         3.54236178e-01, -3.72283827e-01, -3.41524622e-01,\n",
       "        -2.33981741e-01, -2.41139685e-01, -1.50755672e-01,\n",
       "        -2.08940679e-01],\n",
       "       [-3.91254461e-01, -3.00231635e-01, -3.25013053e-01,\n",
       "        -3.11003742e-01, -3.08776845e-01, -2.98063776e-01,\n",
       "        -5.14415872e-01, -2.90094413e-01, -3.62851906e-01,\n",
       "        -2.46092752e-01, -2.41139685e-01, -1.50755672e-01,\n",
       "        -2.08940679e-01],\n",
       "       [-3.83243705e-01, -3.82975387e-01, -3.80938923e-01,\n",
       "        -2.60257424e-01, -3.08776845e-01, -3.53531835e-01,\n",
       "        -5.14415872e-01, -3.72283827e-01, -3.62851906e-01,\n",
       "        -2.46092752e-01, -2.41139685e-01, -1.50755672e-01,\n",
       "        -2.08940679e-01],\n",
       "       [-4.24753988e-01, -2.26131440e-01, -3.68136096e-01,\n",
       "        -3.24146674e-01, -3.08776845e-01, -3.08464037e-01,\n",
       "        -1.23234816e-01, -3.72283827e-01, -3.51979173e-01,\n",
       "        -2.46092752e-01, -2.41139685e-01, -1.50755672e-01,\n",
       "        -2.08940679e-01],\n",
       "       [-4.25647750e-01, -3.82371521e-01, -3.90147026e-01,\n",
       "        -3.18716087e-01, -3.08776845e-01, -3.53531835e-01,\n",
       "        -5.14415872e-01, -3.72283827e-01, -3.62851906e-01,\n",
       "        -2.46092752e-01, -2.41139685e-01, -1.50755672e-01,\n",
       "        -2.08940679e-01],\n",
       "       [-3.91949610e-01, -1.09405664e-01, -3.53778389e-01,\n",
       "        -3.22366902e-01, -3.08776845e-01, -3.53531835e-01,\n",
       "        -5.14415872e-01, -2.62460007e-01, -3.55324630e-01,\n",
       "        -2.46092752e-01, -2.41139685e-01, -1.50755672e-01,\n",
       "        -2.08940679e-01],\n",
       "       [ 5.63495286e+00,  1.89175686e-01,  1.73672482e+00,\n",
       "         6.04734569e+00,  5.80407270e+00, -3.53531835e-01,\n",
       "         2.64954855e+00,  2.34139443e+00,  8.91694202e-01,\n",
       "        -2.46092752e-01, -2.41139685e-01,  6.63324958e+00,\n",
       "        -2.08940679e-01],\n",
       "       [-1.81286579e-01, -3.38759278e-01, -1.51827660e-01,\n",
       "        -2.79515469e-01,  1.00266488e+00,  1.81041580e-03,\n",
       "         2.10879827e+00,  6.27694172e-04,  1.08021066e-01,\n",
       "        -2.08414051e-01,  6.48309974e-01, -1.50755672e-01,\n",
       "        -2.08940679e-01],\n",
       "       [ 1.94755537e-01, -2.95577639e-01,  2.98176978e-01,\n",
       "        -8.18238752e-02, -3.08776845e-01,  2.74487925e+00,\n",
       "         8.14449185e-01, -1.08951393e-02,  1.77405830e+00,\n",
       "         4.44234871e-01, -2.41139685e-01, -1.50755672e-01,\n",
       "        -2.08940679e-01],\n",
       "       [-4.15088117e-01, -2.70014274e-01, -3.56856787e-01,\n",
       "        -3.07809280e-01, -3.08776845e-01, -3.53531835e-01,\n",
       "        -5.14415872e-01, -3.72283827e-01, -3.62851906e-01,\n",
       "        -1.92266036e-01, -2.41139685e-01, -1.50755672e-01,\n",
       "        -2.08940679e-01],\n",
       "       [-4.29487617e-01, -3.80648635e-01, -3.90101674e-01,\n",
       "        -3.24146674e-01, -3.08776845e-01, -3.50931770e-01,\n",
       "        -5.14415872e-01, -3.72283827e-01, -3.62851906e-01,\n",
       "        -2.46092752e-01, -2.41139685e-01, -1.50755672e-01,\n",
       "        -2.08940679e-01],\n",
       "       [-4.19225904e-01, -3.80611280e-01, -3.78309457e-01,\n",
       "        -3.24146674e-01, -3.08776845e-01, -2.14861688e-01,\n",
       "        -5.14415872e-01, -3.56682114e-01, -3.62851906e-01,\n",
       "        -2.46092752e-01, -2.41139685e-01, -1.50755672e-01,\n",
       "        -2.08940679e-01],\n",
       "       [-4.04429176e-01, -3.32529464e-01, -3.39593761e-01,\n",
       "        -3.24146674e-01, -3.08776845e-01, -3.53531835e-01,\n",
       "        -5.14415872e-01, -2.94785124e-01, -3.62851906e-01,\n",
       "        -2.46092752e-01, -2.41139685e-01, -1.50755672e-01,\n",
       "        -2.08940679e-01],\n",
       "       [-4.03899540e-01, -3.82799084e-01, -3.65602079e-01,\n",
       "        -2.88733775e-01, -3.08776845e-01, -3.53531835e-01,\n",
       "        -5.14415872e-01, -3.72283827e-01, -3.62851906e-01,\n",
       "        -2.46092752e-01, -2.41139685e-01, -1.50755672e-01,\n",
       "        -2.08940679e-01],\n",
       "       [ 4.25776481e-01, -3.76854641e-01, -1.89695169e-01,\n",
       "         8.55066341e-01, -3.08776845e-01, -3.53531835e-01,\n",
       "        -5.14415872e-01, -3.72283827e-01, -3.62851906e-01,\n",
       "        -2.46092752e-01, -2.41139685e-01, -1.50755672e-01,\n",
       "        -2.08940679e-01],\n",
       "       [ 1.21533252e-01,  5.76927321e+00,  7.05282460e-01,\n",
       "        -3.05344980e-01,  1.49695192e+00,  4.36038646e+00,\n",
       "        -1.69256117e-01, -9.72654041e-02,  9.27239675e-01,\n",
       "         2.19360312e+00,  5.54028310e+00, -1.50755672e-01,\n",
       "        -2.08940679e-01],\n",
       "       [-2.00320401e-01, -1.42456422e-01, -2.03472712e-01,\n",
       "        -2.38854525e-01, -3.08776845e-01, -3.53531835e-01,\n",
       "         2.19508821e+00,  7.82283689e-02, -2.92597324e-01,\n",
       "        -2.46092752e-01, -2.41139685e-01, -1.50755672e-01,\n",
       "        -2.08940679e-01],\n",
       "       [ 1.98317344e+00, -3.56037047e-01,  1.40412983e-01,\n",
       "         2.32739411e-01, -3.08776845e-01, -3.53531835e-01,\n",
       "        -5.14415872e-01,  5.81588562e+00, -3.62851906e-01,\n",
       "        -2.46092752e-01, -2.41139685e-01, -1.50755672e-01,\n",
       "        -2.08940679e-01],\n",
       "       [ 1.21665661e-01, -3.29214610e-01, -2.26785327e-01,\n",
       "         2.64547130e-01, -3.08776845e-01, -3.53531835e-01,\n",
       "        -5.14415872e-01, -3.58721554e-01, -3.39433712e-01,\n",
       "        -2.46092752e-01, -2.41139685e-01, -1.50755672e-01,\n",
       "        -2.08940679e-01],\n",
       "       [ 1.17167058e+00,  1.95400986e+00,  1.32399125e+00,\n",
       "         8.62231064e-01, -7.91081173e-02,  3.71210353e+00,\n",
       "         1.51627402e+00, -1.32445736e-01,  1.87024017e+00,\n",
       "         6.14717535e+00, -2.41139685e-01, -1.50755672e-01,\n",
       "        -2.08940679e-01],\n",
       "       [-3.86752549e-01, -1.25422571e-01, -2.62896789e-01,\n",
       "        -3.24146674e-01, -3.08776845e-01, -3.53531835e-01,\n",
       "        -5.14415872e-01, -2.40332088e-01, -3.62851906e-01,\n",
       "        -2.46092752e-01, -2.41139685e-01, -1.50755672e-01,\n",
       "        -2.08940679e-01],\n",
       "       [-6.06286995e-02, -3.61746717e-01, -1.64180938e-01,\n",
       "         1.29923353e-01, -8.74294480e-02,  5.27716947e-03,\n",
       "        -2.26782743e-01, -3.72283827e-01, -2.82979137e-01,\n",
       "         1.49668172e-02, -2.41139685e-01, -1.50755672e-01,\n",
       "         5.66751592e+00],\n",
       "       [-4.23794021e-01, -3.81595176e-01, -3.84679606e-01,\n",
       "        -3.16160517e-01, -3.08776845e-01, -3.53531835e-01,\n",
       "        -5.14415872e-01, -3.72283827e-01, -3.62851906e-01,\n",
       "        -2.46092752e-01, -2.41139685e-01, -1.50755672e-01,\n",
       "        -2.08940679e-01],\n",
       "       [-3.29551776e-01, -3.27331579e-01, -2.06801533e-01,\n",
       "        -3.00096934e-01, -3.08776845e-01, -1.59393630e-01,\n",
       "         2.12605625e+00, -2.57055493e-01, -2.24015470e-01,\n",
       "        -1.06008725e-02, -2.41139685e-01, -1.50755672e-01,\n",
       "        -2.08940679e-01],\n",
       "       [-3.72915788e-01, -3.67500518e-01, -3.58609134e-01,\n",
       "        -3.10958107e-01, -3.08776845e-01,  3.34618768e-01,\n",
       "         4.63536767e-01, -3.52909151e-01, -2.50360939e-01,\n",
       "        -2.46092752e-01, -2.41139685e-01, -1.50755672e-01,\n",
       "        -2.08940679e-01],\n",
       "       [-4.09593135e-01, -3.30212000e-01, -3.56023399e-01,\n",
       "        -3.24146674e-01, -3.08776845e-01, -3.53531835e-01,\n",
       "        -5.14415872e-01, -3.39040962e-01, -2.46597300e-01,\n",
       "        -2.46092752e-01, -2.41139685e-01, -1.50755672e-01,\n",
       "        -2.08940679e-01],\n",
       "       [-2.48583553e-01, -3.11591248e-01, -7.55332036e-02,\n",
       "        -3.10501755e-01,  3.48608281e-01,  7.22895178e-01,\n",
       "        -5.14415872e-01, -1.03485695e-01, -4.41971947e-02,\n",
       "        -2.46092752e-01,  3.37595559e+00, -1.50755672e-01,\n",
       "         3.31693328e+00],\n",
       "       [-2.41665172e-01, -3.00543320e-01, -2.57143407e-01,\n",
       "        -2.52955795e-01,  4.40142919e-01, -3.53531835e-01,\n",
       "        -5.14415872e-01,  1.64741395e-03, -3.62851906e-01,\n",
       "        -2.46092752e-01, -2.41139685e-01, -1.50755672e-01,\n",
       "        -2.08940679e-01],\n",
       "       [ 9.92719555e-01, -1.12506006e-01,  1.99148678e-02,\n",
       "         1.25715790e+00, -1.25707569e-01, -1.26459470e-01,\n",
       "         6.08503864e-02,  1.68371597e-01,  7.00166829e-01,\n",
       "        -2.46092752e-01, -2.41139685e-01, -1.50755672e-01,\n",
       "        -2.08940679e-01],\n",
       "       [-3.72088230e-01, -3.20824801e-01, -3.33594508e-01,\n",
       "        -3.23964133e-01, -3.08776845e-01, -3.53531835e-01,\n",
       "        -1.00224166e-01, -2.02908373e-01, -3.62851906e-01,\n",
       "        -2.46092752e-01, -2.41139685e-01, -1.50755672e-01,\n",
       "        -2.08940679e-01],\n",
       "       [-4.29520719e-01, -3.82508081e-01, -3.89906583e-01,\n",
       "        -3.24146674e-01, -3.08776845e-01, -3.53531835e-01,\n",
       "        -5.14415872e-01, -3.72283827e-01, -3.62433724e-01,\n",
       "        -2.45419918e-01, -2.41139685e-01, -1.50755672e-01,\n",
       "        -2.08940679e-01],\n",
       "       [ 6.84371641e-02,  7.20870582e-01,  5.94982949e+00,\n",
       "        -3.24146674e-01, -3.08776845e-01, -3.53531835e-01,\n",
       "        -5.14415872e-01,  1.16188457e+00, -3.62851906e-01,\n",
       "        -2.46092752e-01, -2.41139685e-01, -1.50755672e-01,\n",
       "        -2.08940679e-01],\n",
       "       [-4.14790196e-01, -3.71962473e-01, -3.63630170e-01,\n",
       "        -3.14152569e-01, -3.08776845e-01, -3.53531835e-01,\n",
       "        -5.14415872e-01, -3.72283827e-01, -3.62851906e-01,\n",
       "        -9.26866133e-02, -2.41139685e-01, -1.50755672e-01,\n",
       "        -2.08940679e-01]])"
      ]
     },
     "execution_count": 59,
     "metadata": {},
     "output_type": "execute_result"
    }
   ],
   "source": [
    "X"
   ]
  },
  {
   "cell_type": "code",
   "execution_count": 57,
   "id": "f57ceba9",
   "metadata": {},
   "outputs": [
    {
     "data": {
      "image/png": "[encoded data removed]",
      "text/plain": [
       "<Figure size 432x288 with 1 Axes>"
      ]
     },
     "metadata": {
      "needs_background": "light"
     },
     "output_type": "display_data"
    },
    {
     "name": "stdout",
     "output_type": "stream",
     "text": [
      "Cluster 0: ['A-11', 'A-6', 'A-9', 'B-2', 'B-3', 'B-4', 'C-1', 'C-2', 'C-3', 'CC', 'CTS', 'DR', 'E-2', 'F-1', 'F-6', 'G-1', 'G-4', 'H-1', 'I-2', 'JL', 'K-2', 'K-3', 'L-2', 'L-3', 'L-4', 'L-5', 'M-2', 'N-1', 'P-4', 'PC', 'PD', 'R-4', 'RC', 'S-2', 'S-3', 'T-2', 'T-4', 'T-5', 'T-6', 'T-9', 'TGT', 'V-1']\n",
      "Cluster 1: ['H-2']\n",
      "Cluster 2: ['M-1', 'P-5']\n"
     ]
    }
   ],
   "source": [
    "\n",
    "# Extract the features\n",
    "X = data.drop(['Row Labels'], axis=1)\n",
    "\n",
    "# Normalize the features\n",
    "scaler = StandardScaler()\n",
    "X = scaler.fit_transform(X)\n",
    "\n",
    "# Choose the number of clusters\n",
    "n_clusters = 3\n",
    "\n",
    "# Run the K-means algorithm\n",
    "kmeans = KMeans(n_clusters=n_clusters)\n",
    "kmeans.fit(X)\n",
    "\n",
    "# Visualize the results\n",
    "plt.scatter(X[:, 0], X[:, 1], c=kmeans.labels_, cmap='viridis')\n",
    "plt.xlabel('Sum of QtyRequired')\n",
    "plt.ylabel('Sum of TotalArea')\n",
    "plt.title('Carpet Clusters')\n",
    "plt.show()\n",
    "\n",
    "# Analyze the clusters\n",
    "clusters = {}\n",
    "for i in range(n_clusters):\n",
    "    clusters[i] = list(data[kmeans.labels_ == i]['Row Labels'])\n",
    "    print(f\"Cluster {i}: {clusters[i]}\")\n"
   ]
  },
  {
   "cell_type": "code",
   "execution_count": 33,
   "id": "24bbab3a",
   "metadata": {},
   "outputs": [
    {
     "data": {
      "text/plain": [
       "array(['A-11', 'A-6', 'A-9', 'B-2', 'B-3', 'B-4', 'C-1', 'C-2', 'C-3',\n",
       "       'CC', 'CTS', 'DR', 'E-2', 'F-1', 'F-6', 'G-1', 'G-4', 'H-1', 'H-2',\n",
       "       'I-2', 'JL', 'K-2', 'K-3', 'L-2', 'L-3', 'L-4', 'L-5', 'M-1',\n",
       "       'M-2', 'N-1', 'P-4', 'P-5', 'PC', 'PD', 'R-4', 'RC', 'S-2', 'S-3',\n",
       "       'T-2', 'T-4', 'T-5', 'T-6', 'T-9', 'TGT', 'V-1'], dtype=object)"
      ]
     },
     "execution_count": 33,
     "metadata": {},
     "output_type": "execute_result"
    }
   ],
   "source": [
    "df['Row Labels'].unique()"
   ]
  },
  {
   "cell_type": "code",
   "execution_count": 43,
   "id": "8c123b33",
   "metadata": {},
   "outputs": [],
   "source": [
    "X = df[['Row Labels', 'Sum of QtyRequired']]"
   ]
  },
  {
   "cell_type": "code",
   "execution_count": 13,
   "id": "fb2028c3",
   "metadata": {},
   "outputs": [],
   "source": [
    "X = df.iloc[:, [0, 1, 2, 3]].values\n"
   ]
  },
  {
   "cell_type": "code",
   "execution_count": 44,
   "id": "750be8a0",
   "metadata": {},
   "outputs": [],
   "source": [
    "k_means = KMeans(n_clusters = 5)"
   ]
  },
  {
   "cell_type": "code",
   "execution_count": 1,
   "id": "583bddb7",
   "metadata": {},
   "outputs": [
    {
     "ename": "NameError",
     "evalue": "name 'k_means' is not defined",
     "output_type": "error",
     "traceback": [
      "\u001b[1;31m---------------------------------------------------------------------------\u001b[0m",
      "\u001b[1;31mNameError\u001b[0m                                 Traceback (most recent call last)",
      "\u001b[1;32m<ipython-input-1-964357f37b6c>\u001b[0m in \u001b[0;36m<module>\u001b[1;34m\u001b[0m\n\u001b[0;32m      1\u001b[0m \u001b[1;31m# Fit KMeans to data\u001b[0m\u001b[1;33m\u001b[0m\u001b[1;33m\u001b[0m\u001b[1;33m\u001b[0m\u001b[0m\n\u001b[1;32m----> 2\u001b[1;33m \u001b[0mk_means\u001b[0m\u001b[1;33m.\u001b[0m\u001b[0mfit\u001b[0m\u001b[1;33m(\u001b[0m\u001b[0mX\u001b[0m\u001b[1;33m)\u001b[0m\u001b[1;33m\u001b[0m\u001b[1;33m\u001b[0m\u001b[0m\n\u001b[0m",
      "\u001b[1;31mNameError\u001b[0m: name 'k_means' is not defined"
     ]
    }
   ],
   "source": [
    "# Fit KMeans to data\n",
    "k_means.fit(X)"
   ]
  },
  {
   "cell_type": "code",
   "execution_count": null,
   "id": "7683d55c",
   "metadata": {},
   "outputs": [],
   "source": []
  },
  {
   "cell_type": "code",
   "execution_count": null,
   "id": "2d459ad1",
   "metadata": {},
   "outputs": [],
   "source": [
    "# Fit KMeans to data\n",
    "kmeans.fit(X)\n",
    "\n",
    "# Get labels for each data point\n",
    "labels = kmeans.labels_\n",
    "\n",
    "# Add labels to original DataFrame\n",
    "df[\"Cluster\"] = labels\n",
    "\n",
    "# Print number of customers in each cluster\n",
    "print(df[\"Cluster\"].value_counts())"
   ]
  },
  {
   "cell_type": "code",
   "execution_count": 49,
   "id": "70a904b8",
   "metadata": {},
   "outputs": [
    {
     "data": {
      "text/plain": [
       "array([0, 0, 3, 0, 0, 0, 0, 2, 0, 0, 0, 0, 0, 0, 0, 0, 0, 0, 1, 0, 3, 0,\n",
       "       0, 0, 0, 0, 3, 3, 0, 4, 3, 2, 0, 3, 0, 0, 0, 0, 0, 0, 2, 0, 0, 3,\n",
       "       0])"
      ]
     },
     "execution_count": 49,
     "metadata": {},
     "output_type": "execute_result"
    }
   ],
   "source": [
    "labels = k_means.labels_\n",
    "labels"
   ]
  },
  {
   "cell_type": "code",
   "execution_count": 60,
   "id": "e226a704",
   "metadata": {},
   "outputs": [
    {
     "data": {
      "image/png": "[encoded data removed]",
      "text/plain": [
       "<Figure size 432x288 with 1 Axes>"
      ]
     },
     "metadata": {
      "needs_background": "light"
     },
     "output_type": "display_data"
    }
   ],
   "source": [
    "# Elbow method to find the optimal number of clusters\n",
    "wcss = []\n",
    "for i in range(1, 11):\n",
    "    kmeans = KMeans(n_clusters=i, init='k-means++', max_iter=300, n_init=10, random_state=0)\n",
    "    kmeans.fit(X)\n",
    "    wcss.append(kmeans.inertia_)\n",
    "\n",
    "# Plot the elbow curve\n",
    "plt.plot(range(1, 11), wcss)\n",
    "plt.title('Elbow Method')\n",
    "plt.xlabel('Number of Clusters')\n",
    "plt.ylabel('WCSS')\n",
    "plt.show()\n"
   ]
  },
  {
   "cell_type": "code",
   "execution_count": 61,
   "id": "55f24637",
   "metadata": {},
   "outputs": [
    {
     "name": "stdout",
     "output_type": "stream",
     "text": [
      "WCSS: 38.177853207254415\n"
     ]
    }
   ],
   "source": [
    "# Fit K-means model with k=3\n",
    "#kmeans = KMeans(n_clusters=3, random_state=42).fit(data.drop('Row Labels', axis=1))\n",
    "\n",
    "# Calculate WCSS\n",
    "wcss = kmeans.inertia_\n",
    "\n",
    "print(\"WCSS:\", wcss)\n"
   ]
  },
  {
   "cell_type": "code",
   "execution_count": null,
   "id": "9a3cf5bc",
   "metadata": {},
   "outputs": [],
   "source": []
  },
  {
   "cell_type": "code",
   "execution_count": null,
   "id": "44155da2",
   "metadata": {},
   "outputs": [],
   "source": []
  }
 ],
 "metadata": {
  "kernelspec": {
   "display_name": "Python 3 (ipykernel)",
   "language": "python",
   "name": "python3"
  },
  "language_info": {
   "codemirror_mode": {
    "name": "ipython",
    "version": 3
   },
   "file_extension": ".py",
   "mimetype": "text/x-python",
   "name": "python",
   "nbconvert_exporter": "python",
   "pygments_lexer": "ipython3",
   "version": "3.8.17"
  }
 },
 "nbformat": 4,
 "nbformat_minor": 5
}
